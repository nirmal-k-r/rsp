{
 "cells": [
  {
   "cell_type": "code",
   "execution_count": 4,
   "metadata": {},
   "outputs": [
    {
     "data": {
      "text/plain": [
       "<bound method NDFrame.head of                    0           1                      2\n",
       "0      Member_number        Date        itemDescription\n",
       "1               1808  21-07-2015         tropical fruit\n",
       "2               2552  05-01-2015             whole milk\n",
       "3               2300  19-09-2015              pip fruit\n",
       "4               1187  12-12-2015       other vegetables\n",
       "...              ...         ...                    ...\n",
       "38761           4471  08-10-2014          sliced cheese\n",
       "38762           2022  23-02-2014                  candy\n",
       "38763           1097  16-04-2014               cake bar\n",
       "38764           1510  03-12-2014  fruit/vegetable juice\n",
       "38765           1521  26-12-2014               cat food\n",
       "\n",
       "[38766 rows x 3 columns]>"
      ]
     },
     "execution_count": 4,
     "metadata": {},
     "output_type": "execute_result"
    }
   ],
   "source": [
    "import pandas as pd\n",
    "import numpy as np\n",
    "\n",
    "df=pd.read_csv('Groceries_dataset.csv',header=None)\n",
    "\n",
    "\n",
    "df.head"
   ]
  },
  {
   "cell_type": "code",
   "execution_count": 5,
   "metadata": {},
   "outputs": [
    {
     "name": "stdout",
     "output_type": "stream",
     "text": [
      "0    0\n",
      "1    0\n",
      "2    0\n",
      "dtype: int64\n"
     ]
    }
   ],
   "source": [
    "print(df.isna().sum())"
   ]
  },
  {
   "cell_type": "code",
   "execution_count": 7,
   "metadata": {},
   "outputs": [
    {
     "name": "stdout",
     "output_type": "stream",
     "text": [
      "Int64Index([0, 1, 2], dtype='int64')\n"
     ]
    }
   ],
   "source": [
    "print(df.columns)"
   ]
  },
  {
   "cell_type": "code",
   "execution_count": 8,
   "metadata": {},
   "outputs": [
    {
     "name": "stdout",
     "output_type": "stream",
     "text": [
      "['itemDescription' 'tropical fruit' 'whole milk' 'pip fruit'\n",
      " 'other vegetables' 'rolls/buns' 'pot plants' 'citrus fruit' 'beef'\n",
      " 'frankfurter' 'chicken' 'butter' 'fruit/vegetable juice'\n",
      " 'packaged fruit/vegetables' 'chocolate' 'specialty bar' 'butter milk'\n",
      " 'bottled water' 'yogurt' 'sausage' 'brown bread' 'hamburger meat'\n",
      " 'root vegetables' 'pork' 'pastry' 'canned beer' 'berries' 'coffee'\n",
      " 'misc. beverages' 'ham' 'turkey' 'curd cheese' 'red/blush wine'\n",
      " 'frozen potato products' 'flour' 'sugar' 'frozen meals' 'herbs' 'soda'\n",
      " 'detergent' 'grapes' 'processed cheese' 'fish' 'sparkling wine'\n",
      " 'newspapers' 'curd' 'pasta' 'popcorn' 'finished products' 'beverages'\n",
      " 'bottled beer' 'dessert' 'dog food' 'specialty chocolate'\n",
      " 'condensed milk' 'cleaner' 'white wine' 'meat' 'ice cream' 'hard cheese'\n",
      " 'cream cheese ' 'liquor' 'pickled vegetables' 'liquor (appetizer)'\n",
      " 'UHT-milk' 'candy' 'onions' 'hair spray' 'photo/film' 'domestic eggs'\n",
      " 'margarine' 'shopping bags' 'salt' 'oil' 'whipped/sour cream'\n",
      " 'frozen vegetables' 'sliced cheese' 'dish cleaner' 'baking powder'\n",
      " 'specialty cheese' 'salty snack' 'Instant food products' 'pet care'\n",
      " 'white bread' 'female sanitary products' 'cling film/bags' 'soap'\n",
      " 'frozen chicken' 'house keeping products' 'spread cheese' 'decalcifier'\n",
      " 'frozen dessert' 'vinegar' 'nuts/prunes' 'potato products' 'frozen fish'\n",
      " 'hygiene articles' 'artif. sweetener' 'light bulbs' 'canned vegetables'\n",
      " 'chewing gum' 'canned fish' 'cookware' 'semi-finished bread' 'cat food'\n",
      " 'bathroom cleaner' 'prosecco' 'liver loaf' 'zwieback' 'canned fruit'\n",
      " 'frozen fruits' 'brandy' 'baby cosmetics' 'spices' 'napkins' 'waffles'\n",
      " 'sauces' 'rum' 'chocolate marshmallow' 'long life bakery product' 'bags'\n",
      " 'sweet spreads' 'soups' 'mustard' 'specialty fat' 'instant coffee'\n",
      " 'snack products' 'organic sausage' 'soft cheese' 'mayonnaise'\n",
      " 'dental care' 'roll products ' 'kitchen towels' 'flower soil/fertilizer'\n",
      " 'cereals' 'meat spreads' 'dishes' 'male cosmetics' 'candles' 'whisky'\n",
      " 'tidbits' 'cooking chocolate' 'seasonal products' 'liqueur'\n",
      " 'abrasive cleaner' 'syrup' 'ketchup' 'cream' 'skin care'\n",
      " 'rubbing alcohol' 'nut snack' 'cocoa drinks' 'softener'\n",
      " 'organic products' 'cake bar' 'honey' 'jam' 'kitchen utensil'\n",
      " 'flower (seeds)' 'rice' 'tea' 'salad dressing' 'specialty vegetables'\n",
      " 'pudding powder' 'ready soups' 'make up remover' 'toilet cleaner'\n",
      " 'preservation products']\n"
     ]
    }
   ],
   "source": [
    "print(df[2].unique())"
   ]
  },
  {
   "cell_type": "code",
   "execution_count": 10,
   "metadata": {},
   "outputs": [],
   "source": [
    " \n",
    "products = np.array(df[2].unique())\n",
    "np.save('products.npy',products)"
   ]
  }
 ],
 "metadata": {
  "kernelspec": {
   "display_name": "Python 3",
   "language": "python",
   "name": "python3"
  },
  "language_info": {
   "codemirror_mode": {
    "name": "ipython",
    "version": 3
   },
   "file_extension": ".py",
   "mimetype": "text/x-python",
   "name": "python",
   "nbconvert_exporter": "python",
   "pygments_lexer": "ipython3",
   "version": "3.10.2"
  },
  "orig_nbformat": 4
 },
 "nbformat": 4,
 "nbformat_minor": 2
}
